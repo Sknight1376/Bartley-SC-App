{
 "cells": [
  {
   "cell_type": "code",
   "execution_count": 1,
   "id": "signed-explorer",
   "metadata": {},
   "outputs": [],
   "source": [
    "import pandas as pd\n",
    "import os\n",
    "import tkinter as Tkinter \n",
    "from datetime import datetime\n",
    "from tkinter import *"
   ]
  },
  {
   "cell_type": "code",
   "execution_count": 2,
   "id": "fifteen-resource",
   "metadata": {},
   "outputs": [],
   "source": [
    "handicaps = pd.read_csv('handicaps.csv')\n",
    "classes = handicaps['Class Name'].tolist()"
   ]
  },
  {
   "cell_type": "code",
   "execution_count": 3,
   "id": "focused-profile",
   "metadata": {},
   "outputs": [],
   "source": [
    "counter = 0\n",
    "running = False\n",
    "root = Tkinter.Tk() \n",
    "root.title(\"Stopwatch\") \n",
    "OPTIONS = classes\n",
    "timer = {}\n",
    "finish = 1"
   ]
  },
  {
   "cell_type": "code",
   "execution_count": 4,
   "id": "deadly-december",
   "metadata": {},
   "outputs": [],
   "source": [
    "variable = StringVar(root)\n",
    "variable.set(OPTIONS[0]) # default value"
   ]
  },
  {
   "cell_type": "code",
   "execution_count": 5,
   "id": "confidential-surgery",
   "metadata": {},
   "outputs": [],
   "source": [
    "ent = Tkinter.Entry (root)"
   ]
  },
  {
   "cell_type": "code",
   "execution_count": 6,
   "id": "north-condition",
   "metadata": {},
   "outputs": [],
   "source": [
    "def counter_label(label): \n",
    "    def count(): \n",
    "        if running: \n",
    "            global counter \n",
    "    \n",
    "            # To manage the intial delay. \n",
    "            if counter==0:             \n",
    "                display=\"Starting...\"\n",
    "            else:\n",
    "                tt = datetime.fromtimestamp(counter)\n",
    "                string = tt.strftime(\"%H:%S\")\n",
    "                display=string \n",
    "    \n",
    "            label['text']=display   # Or label.config(text=display) \n",
    "    \n",
    "            # label.after(arg1, arg2) delays by  \n",
    "            # first argument given in milliseconds \n",
    "            # and then calls the function given as second argument. \n",
    "            # Generally like here we need to call the  \n",
    "            # function in which it is present repeatedly. \n",
    "            # Delays by 1000ms=1 seconds and call count again. \n",
    "            label.after(100, count)  \n",
    "            counter += 0.1\n",
    "    \n",
    "    # Triggering the start of the counter. \n",
    "    count()      "
   ]
  },
  {
   "cell_type": "code",
   "execution_count": 7,
   "id": "parental-winning",
   "metadata": {},
   "outputs": [],
   "source": [
    "# start function of the stopwatch \n",
    "def Start(label): \n",
    "    global running \n",
    "    running=True\n",
    "    counter_label(label) \n",
    "    start['state']='disabled'\n",
    "    stop['state']='normal'\n",
    "    reset['state']='normal'\n",
    "    lap['state']='normal'"
   ]
  },
  {
   "cell_type": "code",
   "execution_count": 8,
   "id": "armed-repair",
   "metadata": {},
   "outputs": [],
   "source": [
    "# stop function of the stopwatch \n",
    "def Stop(): \n",
    "    global running \n",
    "    start['state']='normal'\n",
    "    stop['state']='disabled'\n",
    "    reset['state']='normal'\n",
    "    lap['state']='normal'\n",
    "    running = False"
   ]
  },
  {
   "cell_type": "code",
   "execution_count": 9,
   "id": "established-microphone",
   "metadata": {},
   "outputs": [],
   "source": [
    "# reset function of the stopwatch \n",
    "def Reset(label): \n",
    "    global counter \n",
    "    counter=0\n",
    "    \n",
    "    # If rest is pressed after pressing stop. \n",
    "    if running==False:       \n",
    "        reset['state']='disabled'\n",
    "        label['text']='Welcome!'\n",
    "    \n",
    "    # If reset is pressed while the stopwatch is running. \n",
    "    else:                \n",
    "        label['text']='Starting...'"
   ]
  },
  {
   "cell_type": "code",
   "execution_count": 10,
   "id": "norman-macedonia",
   "metadata": {},
   "outputs": [],
   "source": [
    "# stop function of the stopwatch \n",
    "def Lap(): \n",
    "    global timer\n",
    "    global finish\n",
    "    timer[finish]={(f'class:{variable.get()}'), (f'sail_no:{ent.get()}'),counter}\n",
    "    ent.delete(0, END)\n",
    "    finish += 1"
   ]
  },
  {
   "cell_type": "code",
   "execution_count": 11,
   "id": "controlled-birthday",
   "metadata": {},
   "outputs": [],
   "source": [
    "# Fixing the window size. \n",
    "root.minsize(width=250, height=70) \n",
    "label = Tkinter.Label(root, text=\"Welcome!\", fg=\"black\", font=\"Verdana 30 bold\") \n",
    "label.pack() \n",
    "f = Tkinter.Frame(root)\n",
    "start = Tkinter.Button(f, text='Start', width=6, command=lambda:Start(label)) \n",
    "stop = Tkinter.Button(f, text='Stop',width=6,state='disabled', command=Stop) \n",
    "reset = Tkinter.Button(f, text='Reset',width=6, state='disabled', command=lambda:Reset(label))\n",
    "lap = Tkinter.Button(f, text='Lap',width=6, state='disabled', command=Lap)\n",
    "f.pack(anchor = 'center',pady=5)\n",
    "start.pack(side=\"left\") \n",
    "stop.pack(side =\"left\") \n",
    "reset.pack(side=\"left\")\n",
    "lap.pack(side=\"left\") \n",
    "w = OptionMenu(root, variable, *OPTIONS)\n",
    "w.pack(side=\"bottom\")\n",
    "ent.pack(side=\"bottom\")\n",
    "root.mainloop()"
   ]
  },
  {
   "cell_type": "code",
   "execution_count": 12,
   "id": "outside-surgery",
   "metadata": {},
   "outputs": [
    {
     "data": {
      "text/plain": [
       "{1: {3.900000000000002, 'class:420', 'sail_no:'},\n",
       " 2: {5.799999999999995, 'class:420', 'sail_no:46747'},\n",
       " 3: {7.39999999999999, 'class:420', 'sail_no:56756'},\n",
       " 4: {11.499999999999975, 'class:GP14', 'sail_no:5675'},\n",
       " 5: {14.199999999999966, 'class:MERLIN-ROCKET', 'sail_no:675'}}"
      ]
     },
     "execution_count": 12,
     "metadata": {},
     "output_type": "execute_result"
    }
   ],
   "source": [
    "timer"
   ]
  },
  {
   "cell_type": "code",
   "execution_count": null,
   "id": "celtic-keyboard",
   "metadata": {},
   "outputs": [],
   "source": []
  }
 ],
 "metadata": {
  "kernelspec": {
   "display_name": "Python 3",
   "language": "python",
   "name": "python3"
  },
  "language_info": {
   "codemirror_mode": {
    "name": "ipython",
    "version": 3
   },
   "file_extension": ".py",
   "mimetype": "text/x-python",
   "name": "python",
   "nbconvert_exporter": "python",
   "pygments_lexer": "ipython3",
   "version": "3.7.9"
  }
 },
 "nbformat": 4,
 "nbformat_minor": 5
}
